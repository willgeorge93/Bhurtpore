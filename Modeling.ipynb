{
 "cells": [
  {
   "cell_type": "markdown",
   "id": "9fe0efb8",
   "metadata": {},
   "source": [
    "# Bhurtpore Inn - Trip Advisor Modeling"
   ]
  },
  {
   "cell_type": "code",
   "execution_count": 300,
   "id": "55120e72",
   "metadata": {},
   "outputs": [],
   "source": [
    "import pandas as pd\n",
    "import numpy as np\n",
    "from collections import defaultdict"
   ]
  },
  {
   "cell_type": "code",
   "execution_count": 289,
   "id": "a071fba6",
   "metadata": {},
   "outputs": [],
   "source": [
    "df = pd.read_csv('df.csv').drop(['Unnamed: 0'], axis=1)"
   ]
  },
  {
   "cell_type": "markdown",
   "id": "89864c88",
   "metadata": {},
   "source": [
    "# Modelling"
   ]
  },
  {
   "cell_type": "code",
   "execution_count": 566,
   "id": "4f0f45a6",
   "metadata": {},
   "outputs": [],
   "source": [
    "from sklearn.model_selection import train_test_split\n",
    "from imblearn.over_sampling import RandomOverSampler\n",
    "from sklearn.preprocessing import OneHotEncoder\n",
    "from sklearn.feature_extraction.text import TfidfVectorizer\n",
    "from sklearn.pipeline import make_pipeline\n",
    "from sklearn.compose import ColumnTransformer\n",
    "from sklearn.linear_model import LogisticRegression\n",
    "from sklearn.neighbors import KNeighborsClassifier\n",
    "from sklearn.ensemble import RandomForestClassifier\n",
    "from sklearn.neural_network import MLPClassifier\n",
    "from sklearn.svm import SVC\n",
    "from sklearn.model_selection import GridSearchCV"
   ]
  },
  {
   "cell_type": "markdown",
   "id": "c60a96b9",
   "metadata": {},
   "source": [
    "### Baseline Calculation"
   ]
  },
  {
   "cell_type": "code",
   "execution_count": 698,
   "id": "19275c12",
   "metadata": {},
   "outputs": [
    {
     "data": {
      "text/plain": [
       "5    192\n",
       "4     80\n",
       "3     19\n",
       "2      9\n",
       "1      3\n",
       "Name: rating, dtype: int64"
      ]
     },
     "execution_count": 698,
     "metadata": {},
     "output_type": "execute_result"
    }
   ],
   "source": [
    "df.rating.value_counts()"
   ]
  },
  {
   "cell_type": "code",
   "execution_count": 705,
   "id": "8801775c",
   "metadata": {},
   "outputs": [
    {
     "data": {
      "text/plain": [
       "0.6336633663366337"
      ]
     },
     "execution_count": 705,
     "metadata": {},
     "output_type": "execute_result"
    }
   ],
   "source": [
    "df.rating.value_counts(normalize=True)[5]"
   ]
  },
  {
   "cell_type": "markdown",
   "id": "c0f4f233",
   "metadata": {},
   "source": [
    "### Model Setup"
   ]
  },
  {
   "cell_type": "code",
   "execution_count": 334,
   "id": "66ec9422",
   "metadata": {},
   "outputs": [],
   "source": [
    "model_df = df.copy()\n",
    "\n",
    "y = model_df.pop('rating')\n",
    "X = model_df"
   ]
  },
  {
   "cell_type": "code",
   "execution_count": 335,
   "id": "47843620",
   "metadata": {},
   "outputs": [],
   "source": [
    "oversample = RandomOverSampler(sampling_strategy='minority')\n",
    "X_over, y_over = oversample.fit_resample(X, y)"
   ]
  },
  {
   "cell_type": "code",
   "execution_count": 336,
   "id": "d10a8cd9",
   "metadata": {},
   "outputs": [],
   "source": [
    "X_train, X_test, y_train, y_test = train_test_split(X_over, y_over, test_size=0.2, stratify=y_over)"
   ]
  },
  {
   "cell_type": "code",
   "execution_count": 337,
   "id": "0395fc23",
   "metadata": {},
   "outputs": [
    {
     "data": {
      "text/plain": [
       "Index(['username', 'rating', 'review_year', 'review_month', 'platform',\n",
       "       'headline', 'post_text', 'visit_year', 'visit_month'],\n",
       "      dtype='object')"
      ]
     },
     "execution_count": 337,
     "metadata": {},
     "output_type": "execute_result"
    }
   ],
   "source": [
    "df.columns"
   ]
  },
  {
   "cell_type": "code",
   "execution_count": 338,
   "id": "1665cb80",
   "metadata": {},
   "outputs": [],
   "source": [
    "ohe_r_year = OneHotEncoder()\n",
    "ohe_r_month = OneHotEncoder()\n",
    "ohe_v_year = OneHotEncoder()\n",
    "ohe_v_month = OneHotEncoder()\n",
    "ohe_platform = OneHotEncoder()\n",
    "nlp_post = TfidfVectorizer(lowercase=True, stop_words='english')\n",
    "nlp_head = TfidfVectorizer(lowercase=True, stop_words='english')"
   ]
  },
  {
   "cell_type": "code",
   "execution_count": 339,
   "id": "c276f265",
   "metadata": {},
   "outputs": [],
   "source": [
    "col_trans = ColumnTransformer([\n",
    "    ('review_year', ohe_r_year, ['review_year']),\n",
    "    ('review_month', ohe_r_month, ['review_month']),\n",
    "    ('platform', ohe_platform, ['platform']),\n",
    "    ('headline', nlp_head, 'headline'),\n",
    "    ('post_text', nlp_post, 'post_text'),\n",
    "    ('visit_year', ohe_v_year, ['visit_year']),\n",
    "    ('visit_month', ohe_v_month, ['visit_month'])\n",
    "])"
   ]
  },
  {
   "cell_type": "code",
   "execution_count": 564,
   "id": "d313327e",
   "metadata": {},
   "outputs": [],
   "source": [
    "log = LogisticRegression(penalty='l2', solver='saga', max_iter=10000, n_jobs=-2)\n",
    "rfc = RandomForestClassifier(n_jobs=-2)\n",
    "nnc = MLPClassifier(hidden_layer_sizes=(100, 40, 25))\n",
    "knc = KNeighborsClassifier()"
   ]
  },
  {
   "cell_type": "code",
   "execution_count": 583,
   "id": "2a5f5ddf",
   "metadata": {},
   "outputs": [],
   "source": [
    "# pipe.get_params()"
   ]
  },
  {
   "cell_type": "code",
   "execution_count": 579,
   "id": "7f024125",
   "metadata": {},
   "outputs": [],
   "source": [
    "params = {\n",
    "    'logisticregression__penalty' : ['l1', 'none', 'l2'],\n",
    "    'logisticregression__solver' : ['lbfgs', 'saga'],\n",
    "    'logisticregression__C' : [0.001, 0.005, 0.01, 0.05, 0.1, 0.2],\n",
    "    'logisticregression__tol' : [0.0001, 0.001, 0.01, 0.05, 0.1]\n",
    "}"
   ]
  },
  {
   "cell_type": "code",
   "execution_count": 582,
   "id": "9b66f2d1",
   "metadata": {},
   "outputs": [
    {
     "name": "stdout",
     "output_type": "stream",
     "text": [
      "Fitting 5 folds for each of 180 candidates, totalling 900 fits\n"
     ]
    },
    {
     "name": "stderr",
     "output_type": "stream",
     "text": [
      "/Users/willgeorge/Library/Python/3.8/lib/python/site-packages/sklearn/model_selection/_search.py:922: UserWarning: One or more of the test scores are non-finite: [       nan        nan        nan        nan        nan 0.39185329\n",
      " 0.38932165 0.38928919 0.38932165 0.39185329 0.74050633 0.73797468\n",
      " 0.73544304 0.73037975 0.73037975 0.74047387 0.73291139 0.73287894\n",
      " 0.72525154 0.73550795 0.74797144 0.74797144 0.74797144 0.74797144\n",
      " 0.74797144 0.74797144 0.73774748 0.73521584 0.73521584 0.75060045\n",
      "        nan        nan        nan        nan        nan 0.39185329\n",
      " 0.38932165 0.39185329 0.38675755 0.39185329 0.74050633 0.73797468\n",
      " 0.73544304 0.73037975 0.73037975 0.74044142 0.73031483 0.72275235\n",
      " 0.74050633 0.74563453 0.7633236  0.7633236  0.7633236  0.7633236\n",
      " 0.7633236  0.7633236  0.75822785 0.7556962  0.7633236  0.75822785\n",
      "        nan        nan        nan        nan        nan 0.38932165\n",
      " 0.38932165 0.39185329 0.38932165 0.39185329 0.74050633 0.73797468\n",
      " 0.73544304 0.73037975 0.73037975 0.73790977 0.74303797 0.73541058\n",
      " 0.73544304 0.73047712 0.76838689 0.76838689 0.76838689 0.76838689\n",
      " 0.76838689 0.76838689 0.76838689 0.7633236  0.76585524 0.76838689\n",
      "        nan        nan        nan        nan        nan 0.7633236\n",
      " 0.7633236  0.7633236  0.7633236  0.7633236  0.74050633 0.73797468\n",
      " 0.73544304 0.73037975 0.73037975 0.74044142 0.74047387 0.73291139\n",
      " 0.74050633 0.725284   0.77604674 0.77604674 0.77604674 0.77604674\n",
      " 0.77604674 0.77604674 0.77604674 0.77604674 0.77604674 0.77604674\n",
      "        nan        nan        nan        nan        nan 0.7633236\n",
      " 0.7633236  0.7633236  0.7633236  0.7633236  0.74050633 0.73797468\n",
      " 0.73544304 0.73037975 0.73037975 0.74047387 0.73284648 0.73541058\n",
      " 0.7227199  0.74560208 0.77611165 0.77611165 0.77611165 0.77611165\n",
      " 0.77611165 0.77611165 0.77611165 0.77354755 0.77611165 0.7760792\n",
      "        nan        nan        nan        nan        nan 0.7633236\n",
      " 0.7633236  0.76838689 0.77095099 0.77095099 0.74050633 0.73797468\n",
      " 0.73544304 0.73037975 0.73037975 0.74047387 0.74050633 0.73794223\n",
      " 0.74053879 0.73547549 0.77604674 0.77604674 0.77604674 0.77604674\n",
      " 0.77604674 0.77604674 0.7760792  0.77354755 0.77601428 0.75829276]\n",
      "  warnings.warn(\n"
     ]
    },
    {
     "data": {
      "text/plain": [
       "GridSearchCV(cv=5,\n",
       "             estimator=Pipeline(steps=[('columntransformer',\n",
       "                                        ColumnTransformer(transformers=[('review_year',\n",
       "                                                                         OneHotEncoder(),\n",
       "                                                                         ['review_year']),\n",
       "                                                                        ('review_month',\n",
       "                                                                         OneHotEncoder(),\n",
       "                                                                         ['review_month']),\n",
       "                                                                        ('platform',\n",
       "                                                                         OneHotEncoder(),\n",
       "                                                                         ['platform']),\n",
       "                                                                        ('headline',\n",
       "                                                                         TfidfVectorizer(stop_words='english'),\n",
       "                                                                         'headline'),\n",
       "                                                                        ('post_text',\n",
       "                                                                         TfidfVectorizer(stop_words='english'),...\n",
       "                                                                        ('visit_month',\n",
       "                                                                         OneHotEncoder(),\n",
       "                                                                         ['visit_month'])])),\n",
       "                                       ('logisticregression',\n",
       "                                        LogisticRegression(max_iter=10000,\n",
       "                                                           solver='saga'))]),\n",
       "             n_jobs=-2,\n",
       "             param_grid={'logisticregression__C': [0.001, 0.005, 0.01, 0.05,\n",
       "                                                   0.1, 0.2],\n",
       "                         'logisticregression__penalty': ['l1', 'none', 'l2'],\n",
       "                         'logisticregression__solver': ['lbfgs', 'saga'],\n",
       "                         'logisticregression__tol': [0.0001, 0.001, 0.01, 0.05,\n",
       "                                                     0.1]},\n",
       "             verbose=1)"
      ]
     },
     "execution_count": 582,
     "metadata": {},
     "output_type": "execute_result"
    }
   ],
   "source": [
    "gs = GridSearchCV(pipe, params, cv=5, n_jobs=-2, verbose=1)\n",
    "gs.fit(X_train, y_train)"
   ]
  },
  {
   "cell_type": "code",
   "execution_count": 590,
   "id": "2a46d3f1",
   "metadata": {},
   "outputs": [
    {
     "data": {
      "text/plain": [
       "0.7761116520610191"
      ]
     },
     "execution_count": 590,
     "metadata": {},
     "output_type": "execute_result"
    }
   ],
   "source": [
    "gs.best_score_"
   ]
  },
  {
   "cell_type": "code",
   "execution_count": 593,
   "id": "9bffce6b",
   "metadata": {},
   "outputs": [
    {
     "data": {
      "text/plain": [
       "{'logisticregression__C': 0.1,\n",
       " 'logisticregression__penalty': 'l2',\n",
       " 'logisticregression__solver': 'lbfgs',\n",
       " 'logisticregression__tol': 0.0001}"
      ]
     },
     "execution_count": 593,
     "metadata": {},
     "output_type": "execute_result"
    }
   ],
   "source": [
    "gs.best_params_"
   ]
  },
  {
   "cell_type": "code",
   "execution_count": 592,
   "id": "d6ab6c25",
   "metadata": {},
   "outputs": [],
   "source": [
    "model = gs.best_estimator_"
   ]
  },
  {
   "cell_type": "code",
   "execution_count": 594,
   "id": "d77ef8d0",
   "metadata": {},
   "outputs": [
    {
     "data": {
      "text/plain": [
       "Pipeline(steps=[('columntransformer',\n",
       "                 ColumnTransformer(transformers=[('review_year',\n",
       "                                                  OneHotEncoder(),\n",
       "                                                  ['review_year']),\n",
       "                                                 ('review_month',\n",
       "                                                  OneHotEncoder(),\n",
       "                                                  ['review_month']),\n",
       "                                                 ('platform', OneHotEncoder(),\n",
       "                                                  ['platform']),\n",
       "                                                 ('headline',\n",
       "                                                  TfidfVectorizer(stop_words='english'),\n",
       "                                                  'headline'),\n",
       "                                                 ('post_text',\n",
       "                                                  TfidfVectorizer(stop_words='english'),\n",
       "                                                  'post_text'),\n",
       "                                                 ('visit_year', OneHotEncoder(),\n",
       "                                                  ['visit_year']),\n",
       "                                                 ('visit_month',\n",
       "                                                  OneHotEncoder(),\n",
       "                                                  ['visit_month'])])),\n",
       "                ('logisticregression',\n",
       "                 LogisticRegression(C=0.1, max_iter=10000))])"
      ]
     },
     "execution_count": 594,
     "metadata": {},
     "output_type": "execute_result"
    }
   ],
   "source": [
    "model"
   ]
  },
  {
   "cell_type": "markdown",
   "id": "e179afab",
   "metadata": {},
   "source": [
    "Could get marginally better scores with neural network and random forest classifiers, although for the purpose of interpretability on the feature importance end, I decided to use the logistic regression classifier based on its closeness to the best scores of the preceding two combined with ability to satisfy the overall goal of the project:-\n",
    "\n",
    "`to advise the Bhurtpore Inn pub on factors that primarily influence Trip Advisor ratings`"
   ]
  },
  {
   "cell_type": "code",
   "execution_count": 424,
   "id": "0b22f367",
   "metadata": {
    "scrolled": false
   },
   "outputs": [
    {
     "name": "stdout",
     "output_type": "stream",
     "text": [
      "1.0\n",
      "0.8080808080808081\n"
     ]
    }
   ],
   "source": [
    "# pipe = make_pipeline(col_trans, nnc)\n",
    "# pipe.fit(X_train, y_train)\n",
    "\n",
    "# print(pipe.score(X_train, y_train))\n",
    "# print(pipe.score(X_test, y_test))\n",
    "\n",
    "# train score = 1.0\n",
    "# test score = 0.8080808080808081"
   ]
  },
  {
   "cell_type": "code",
   "execution_count": 394,
   "id": "d056aa45",
   "metadata": {
    "scrolled": false
   },
   "outputs": [
    {
     "name": "stdout",
     "output_type": "stream",
     "text": [
      "1.0\n",
      "0.8080808080808081\n"
     ]
    }
   ],
   "source": [
    "# pipe = make_pipeline(col_trans, ofc)\n",
    "# pipe.fit(X_train, y_train)\n",
    "\n",
    "# print(pipe.score(X_train, y_train))\n",
    "# print(pipe.score(X_test, y_test))\n",
    "\n",
    "# train score = 1.0\n",
    "# test score = 0.8080808080808081"
   ]
  },
  {
   "cell_type": "code",
   "execution_count": 595,
   "id": "a4c4366e",
   "metadata": {},
   "outputs": [],
   "source": [
    "predictions = pd.DataFrame(model.predict(X_test), columns=['predictions'])\n",
    "predictions['true'] = y_test.reset_index(drop=True)"
   ]
  },
  {
   "cell_type": "code",
   "execution_count": 596,
   "id": "a52532ec",
   "metadata": {},
   "outputs": [
    {
     "data": {
      "text/html": [
       "<div>\n",
       "<style scoped>\n",
       "    .dataframe tbody tr th:only-of-type {\n",
       "        vertical-align: middle;\n",
       "    }\n",
       "\n",
       "    .dataframe tbody tr th {\n",
       "        vertical-align: top;\n",
       "    }\n",
       "\n",
       "    .dataframe thead th {\n",
       "        text-align: right;\n",
       "    }\n",
       "</style>\n",
       "<table border=\"1\" class=\"dataframe\">\n",
       "  <thead>\n",
       "    <tr style=\"text-align: right;\">\n",
       "      <th></th>\n",
       "      <th>predictions</th>\n",
       "      <th>true</th>\n",
       "    </tr>\n",
       "  </thead>\n",
       "  <tbody>\n",
       "    <tr>\n",
       "      <th>0</th>\n",
       "      <td>5</td>\n",
       "      <td>5</td>\n",
       "    </tr>\n",
       "    <tr>\n",
       "      <th>1</th>\n",
       "      <td>5</td>\n",
       "      <td>5</td>\n",
       "    </tr>\n",
       "    <tr>\n",
       "      <th>2</th>\n",
       "      <td>1</td>\n",
       "      <td>1</td>\n",
       "    </tr>\n",
       "    <tr>\n",
       "      <th>3</th>\n",
       "      <td>1</td>\n",
       "      <td>1</td>\n",
       "    </tr>\n",
       "    <tr>\n",
       "      <th>4</th>\n",
       "      <td>5</td>\n",
       "      <td>4</td>\n",
       "    </tr>\n",
       "    <tr>\n",
       "      <th>...</th>\n",
       "      <td>...</td>\n",
       "      <td>...</td>\n",
       "    </tr>\n",
       "    <tr>\n",
       "      <th>94</th>\n",
       "      <td>1</td>\n",
       "      <td>1</td>\n",
       "    </tr>\n",
       "    <tr>\n",
       "      <th>95</th>\n",
       "      <td>5</td>\n",
       "      <td>4</td>\n",
       "    </tr>\n",
       "    <tr>\n",
       "      <th>96</th>\n",
       "      <td>5</td>\n",
       "      <td>4</td>\n",
       "    </tr>\n",
       "    <tr>\n",
       "      <th>97</th>\n",
       "      <td>5</td>\n",
       "      <td>5</td>\n",
       "    </tr>\n",
       "    <tr>\n",
       "      <th>98</th>\n",
       "      <td>5</td>\n",
       "      <td>5</td>\n",
       "    </tr>\n",
       "  </tbody>\n",
       "</table>\n",
       "<p>99 rows × 2 columns</p>\n",
       "</div>"
      ],
      "text/plain": [
       "    predictions  true\n",
       "0             5     5\n",
       "1             5     5\n",
       "2             1     1\n",
       "3             1     1\n",
       "4             5     4\n",
       "..          ...   ...\n",
       "94            1     1\n",
       "95            5     4\n",
       "96            5     4\n",
       "97            5     5\n",
       "98            5     5\n",
       "\n",
       "[99 rows x 2 columns]"
      ]
     },
     "execution_count": 596,
     "metadata": {},
     "output_type": "execute_result"
    }
   ],
   "source": [
    "predictions"
   ]
  },
  {
   "cell_type": "code",
   "execution_count": 597,
   "id": "91244572",
   "metadata": {},
   "outputs": [],
   "source": [
    "predictions['match'] = predictions.predictions==predictions.true"
   ]
  },
  {
   "cell_type": "code",
   "execution_count": 598,
   "id": "5f6bf431",
   "metadata": {},
   "outputs": [],
   "source": [
    "misses = predictions[predictions['match']==False]"
   ]
  },
  {
   "cell_type": "code",
   "execution_count": 603,
   "id": "2cf36bc1",
   "metadata": {},
   "outputs": [
    {
     "data": {
      "text/html": [
       "<div>\n",
       "<style scoped>\n",
       "    .dataframe tbody tr th:only-of-type {\n",
       "        vertical-align: middle;\n",
       "    }\n",
       "\n",
       "    .dataframe tbody tr th {\n",
       "        vertical-align: top;\n",
       "    }\n",
       "\n",
       "    .dataframe thead th {\n",
       "        text-align: right;\n",
       "    }\n",
       "</style>\n",
       "<table border=\"1\" class=\"dataframe\">\n",
       "  <thead>\n",
       "    <tr style=\"text-align: right;\">\n",
       "      <th></th>\n",
       "      <th>predictions</th>\n",
       "      <th>true</th>\n",
       "      <th>match</th>\n",
       "      <th>off_by</th>\n",
       "    </tr>\n",
       "  </thead>\n",
       "  <tbody>\n",
       "    <tr>\n",
       "      <th>4</th>\n",
       "      <td>5</td>\n",
       "      <td>4</td>\n",
       "      <td>False</td>\n",
       "      <td>1</td>\n",
       "    </tr>\n",
       "    <tr>\n",
       "      <th>14</th>\n",
       "      <td>5</td>\n",
       "      <td>2</td>\n",
       "      <td>False</td>\n",
       "      <td>3</td>\n",
       "    </tr>\n",
       "    <tr>\n",
       "      <th>22</th>\n",
       "      <td>5</td>\n",
       "      <td>4</td>\n",
       "      <td>False</td>\n",
       "      <td>1</td>\n",
       "    </tr>\n",
       "    <tr>\n",
       "      <th>26</th>\n",
       "      <td>1</td>\n",
       "      <td>4</td>\n",
       "      <td>False</td>\n",
       "      <td>-3</td>\n",
       "    </tr>\n",
       "    <tr>\n",
       "      <th>28</th>\n",
       "      <td>5</td>\n",
       "      <td>3</td>\n",
       "      <td>False</td>\n",
       "      <td>2</td>\n",
       "    </tr>\n",
       "    <tr>\n",
       "      <th>35</th>\n",
       "      <td>5</td>\n",
       "      <td>4</td>\n",
       "      <td>False</td>\n",
       "      <td>1</td>\n",
       "    </tr>\n",
       "    <tr>\n",
       "      <th>38</th>\n",
       "      <td>5</td>\n",
       "      <td>2</td>\n",
       "      <td>False</td>\n",
       "      <td>3</td>\n",
       "    </tr>\n",
       "    <tr>\n",
       "      <th>40</th>\n",
       "      <td>5</td>\n",
       "      <td>3</td>\n",
       "      <td>False</td>\n",
       "      <td>2</td>\n",
       "    </tr>\n",
       "    <tr>\n",
       "      <th>42</th>\n",
       "      <td>5</td>\n",
       "      <td>4</td>\n",
       "      <td>False</td>\n",
       "      <td>1</td>\n",
       "    </tr>\n",
       "    <tr>\n",
       "      <th>44</th>\n",
       "      <td>5</td>\n",
       "      <td>4</td>\n",
       "      <td>False</td>\n",
       "      <td>1</td>\n",
       "    </tr>\n",
       "    <tr>\n",
       "      <th>48</th>\n",
       "      <td>5</td>\n",
       "      <td>4</td>\n",
       "      <td>False</td>\n",
       "      <td>1</td>\n",
       "    </tr>\n",
       "    <tr>\n",
       "      <th>49</th>\n",
       "      <td>5</td>\n",
       "      <td>4</td>\n",
       "      <td>False</td>\n",
       "      <td>1</td>\n",
       "    </tr>\n",
       "    <tr>\n",
       "      <th>56</th>\n",
       "      <td>5</td>\n",
       "      <td>4</td>\n",
       "      <td>False</td>\n",
       "      <td>1</td>\n",
       "    </tr>\n",
       "    <tr>\n",
       "      <th>57</th>\n",
       "      <td>5</td>\n",
       "      <td>4</td>\n",
       "      <td>False</td>\n",
       "      <td>1</td>\n",
       "    </tr>\n",
       "    <tr>\n",
       "      <th>64</th>\n",
       "      <td>5</td>\n",
       "      <td>3</td>\n",
       "      <td>False</td>\n",
       "      <td>2</td>\n",
       "    </tr>\n",
       "    <tr>\n",
       "      <th>69</th>\n",
       "      <td>5</td>\n",
       "      <td>4</td>\n",
       "      <td>False</td>\n",
       "      <td>1</td>\n",
       "    </tr>\n",
       "    <tr>\n",
       "      <th>72</th>\n",
       "      <td>5</td>\n",
       "      <td>4</td>\n",
       "      <td>False</td>\n",
       "      <td>1</td>\n",
       "    </tr>\n",
       "    <tr>\n",
       "      <th>75</th>\n",
       "      <td>5</td>\n",
       "      <td>4</td>\n",
       "      <td>False</td>\n",
       "      <td>1</td>\n",
       "    </tr>\n",
       "    <tr>\n",
       "      <th>80</th>\n",
       "      <td>5</td>\n",
       "      <td>3</td>\n",
       "      <td>False</td>\n",
       "      <td>2</td>\n",
       "    </tr>\n",
       "    <tr>\n",
       "      <th>81</th>\n",
       "      <td>5</td>\n",
       "      <td>4</td>\n",
       "      <td>False</td>\n",
       "      <td>1</td>\n",
       "    </tr>\n",
       "    <tr>\n",
       "      <th>95</th>\n",
       "      <td>5</td>\n",
       "      <td>4</td>\n",
       "      <td>False</td>\n",
       "      <td>1</td>\n",
       "    </tr>\n",
       "    <tr>\n",
       "      <th>96</th>\n",
       "      <td>5</td>\n",
       "      <td>4</td>\n",
       "      <td>False</td>\n",
       "      <td>1</td>\n",
       "    </tr>\n",
       "  </tbody>\n",
       "</table>\n",
       "</div>"
      ],
      "text/plain": [
       "    predictions  true  match  off_by\n",
       "4             5     4  False       1\n",
       "14            5     2  False       3\n",
       "22            5     4  False       1\n",
       "26            1     4  False      -3\n",
       "28            5     3  False       2\n",
       "35            5     4  False       1\n",
       "38            5     2  False       3\n",
       "40            5     3  False       2\n",
       "42            5     4  False       1\n",
       "44            5     4  False       1\n",
       "48            5     4  False       1\n",
       "49            5     4  False       1\n",
       "56            5     4  False       1\n",
       "57            5     4  False       1\n",
       "64            5     3  False       2\n",
       "69            5     4  False       1\n",
       "72            5     4  False       1\n",
       "75            5     4  False       1\n",
       "80            5     3  False       2\n",
       "81            5     4  False       1\n",
       "95            5     4  False       1\n",
       "96            5     4  False       1"
      ]
     },
     "execution_count": 603,
     "metadata": {},
     "output_type": "execute_result"
    }
   ],
   "source": [
    "misses"
   ]
  },
  {
   "cell_type": "code",
   "execution_count": 604,
   "id": "67f3ca63",
   "metadata": {},
   "outputs": [
    {
     "name": "stderr",
     "output_type": "stream",
     "text": [
      "<ipython-input-604-439ff8932265>:1: SettingWithCopyWarning: \n",
      "A value is trying to be set on a copy of a slice from a DataFrame.\n",
      "Try using .loc[row_indexer,col_indexer] = value instead\n",
      "\n",
      "See the caveats in the documentation: https://pandas.pydata.org/pandas-docs/stable/user_guide/indexing.html#returning-a-view-versus-a-copy\n",
      "  misses['off_by'] = misses.predictions - misses.true\n"
     ]
    }
   ],
   "source": [
    "misses['off_by'] = misses.predictions - misses.true"
   ]
  },
  {
   "cell_type": "code",
   "execution_count": 605,
   "id": "947c2edd",
   "metadata": {},
   "outputs": [
    {
     "data": {
      "text/html": [
       "<div>\n",
       "<style scoped>\n",
       "    .dataframe tbody tr th:only-of-type {\n",
       "        vertical-align: middle;\n",
       "    }\n",
       "\n",
       "    .dataframe tbody tr th {\n",
       "        vertical-align: top;\n",
       "    }\n",
       "\n",
       "    .dataframe thead th {\n",
       "        text-align: right;\n",
       "    }\n",
       "</style>\n",
       "<table border=\"1\" class=\"dataframe\">\n",
       "  <thead>\n",
       "    <tr style=\"text-align: right;\">\n",
       "      <th></th>\n",
       "      <th>predictions</th>\n",
       "      <th>true</th>\n",
       "      <th>off_by</th>\n",
       "    </tr>\n",
       "  </thead>\n",
       "  <tbody>\n",
       "    <tr>\n",
       "      <th>4</th>\n",
       "      <td>5</td>\n",
       "      <td>4</td>\n",
       "      <td>1</td>\n",
       "    </tr>\n",
       "    <tr>\n",
       "      <th>14</th>\n",
       "      <td>5</td>\n",
       "      <td>2</td>\n",
       "      <td>3</td>\n",
       "    </tr>\n",
       "    <tr>\n",
       "      <th>22</th>\n",
       "      <td>5</td>\n",
       "      <td>4</td>\n",
       "      <td>1</td>\n",
       "    </tr>\n",
       "    <tr>\n",
       "      <th>26</th>\n",
       "      <td>1</td>\n",
       "      <td>4</td>\n",
       "      <td>-3</td>\n",
       "    </tr>\n",
       "    <tr>\n",
       "      <th>28</th>\n",
       "      <td>5</td>\n",
       "      <td>3</td>\n",
       "      <td>2</td>\n",
       "    </tr>\n",
       "    <tr>\n",
       "      <th>35</th>\n",
       "      <td>5</td>\n",
       "      <td>4</td>\n",
       "      <td>1</td>\n",
       "    </tr>\n",
       "    <tr>\n",
       "      <th>38</th>\n",
       "      <td>5</td>\n",
       "      <td>2</td>\n",
       "      <td>3</td>\n",
       "    </tr>\n",
       "    <tr>\n",
       "      <th>40</th>\n",
       "      <td>5</td>\n",
       "      <td>3</td>\n",
       "      <td>2</td>\n",
       "    </tr>\n",
       "    <tr>\n",
       "      <th>42</th>\n",
       "      <td>5</td>\n",
       "      <td>4</td>\n",
       "      <td>1</td>\n",
       "    </tr>\n",
       "    <tr>\n",
       "      <th>44</th>\n",
       "      <td>5</td>\n",
       "      <td>4</td>\n",
       "      <td>1</td>\n",
       "    </tr>\n",
       "    <tr>\n",
       "      <th>48</th>\n",
       "      <td>5</td>\n",
       "      <td>4</td>\n",
       "      <td>1</td>\n",
       "    </tr>\n",
       "    <tr>\n",
       "      <th>49</th>\n",
       "      <td>5</td>\n",
       "      <td>4</td>\n",
       "      <td>1</td>\n",
       "    </tr>\n",
       "    <tr>\n",
       "      <th>56</th>\n",
       "      <td>5</td>\n",
       "      <td>4</td>\n",
       "      <td>1</td>\n",
       "    </tr>\n",
       "    <tr>\n",
       "      <th>57</th>\n",
       "      <td>5</td>\n",
       "      <td>4</td>\n",
       "      <td>1</td>\n",
       "    </tr>\n",
       "    <tr>\n",
       "      <th>64</th>\n",
       "      <td>5</td>\n",
       "      <td>3</td>\n",
       "      <td>2</td>\n",
       "    </tr>\n",
       "    <tr>\n",
       "      <th>69</th>\n",
       "      <td>5</td>\n",
       "      <td>4</td>\n",
       "      <td>1</td>\n",
       "    </tr>\n",
       "    <tr>\n",
       "      <th>72</th>\n",
       "      <td>5</td>\n",
       "      <td>4</td>\n",
       "      <td>1</td>\n",
       "    </tr>\n",
       "    <tr>\n",
       "      <th>75</th>\n",
       "      <td>5</td>\n",
       "      <td>4</td>\n",
       "      <td>1</td>\n",
       "    </tr>\n",
       "    <tr>\n",
       "      <th>80</th>\n",
       "      <td>5</td>\n",
       "      <td>3</td>\n",
       "      <td>2</td>\n",
       "    </tr>\n",
       "    <tr>\n",
       "      <th>81</th>\n",
       "      <td>5</td>\n",
       "      <td>4</td>\n",
       "      <td>1</td>\n",
       "    </tr>\n",
       "    <tr>\n",
       "      <th>95</th>\n",
       "      <td>5</td>\n",
       "      <td>4</td>\n",
       "      <td>1</td>\n",
       "    </tr>\n",
       "    <tr>\n",
       "      <th>96</th>\n",
       "      <td>5</td>\n",
       "      <td>4</td>\n",
       "      <td>1</td>\n",
       "    </tr>\n",
       "  </tbody>\n",
       "</table>\n",
       "</div>"
      ],
      "text/plain": [
       "    predictions  true  off_by\n",
       "4             5     4       1\n",
       "14            5     2       3\n",
       "22            5     4       1\n",
       "26            1     4      -3\n",
       "28            5     3       2\n",
       "35            5     4       1\n",
       "38            5     2       3\n",
       "40            5     3       2\n",
       "42            5     4       1\n",
       "44            5     4       1\n",
       "48            5     4       1\n",
       "49            5     4       1\n",
       "56            5     4       1\n",
       "57            5     4       1\n",
       "64            5     3       2\n",
       "69            5     4       1\n",
       "72            5     4       1\n",
       "75            5     4       1\n",
       "80            5     3       2\n",
       "81            5     4       1\n",
       "95            5     4       1\n",
       "96            5     4       1"
      ]
     },
     "execution_count": 605,
     "metadata": {},
     "output_type": "execute_result"
    }
   ],
   "source": [
    "misses.drop(['match'], axis=1)"
   ]
  },
  {
   "cell_type": "markdown",
   "id": "0e64cb29",
   "metadata": {},
   "source": [
    "# Finished Model"
   ]
  },
  {
   "cell_type": "code",
   "execution_count": 606,
   "id": "2e6a8085",
   "metadata": {},
   "outputs": [],
   "source": [
    "import joblib"
   ]
  },
  {
   "cell_type": "code",
   "execution_count": 607,
   "id": "e34eec14",
   "metadata": {},
   "outputs": [
    {
     "data": {
      "text/plain": [
       "['model.pkl']"
      ]
     },
     "execution_count": 607,
     "metadata": {},
     "output_type": "execute_result"
    }
   ],
   "source": [
    "# joblib.dump(pipe, 'model.pkl')"
   ]
  }
 ],
 "metadata": {
  "kernelspec": {
   "display_name": "Python 3",
   "language": "python",
   "name": "python3"
  },
  "language_info": {
   "codemirror_mode": {
    "name": "ipython",
    "version": 3
   },
   "file_extension": ".py",
   "mimetype": "text/x-python",
   "name": "python",
   "nbconvert_exporter": "python",
   "pygments_lexer": "ipython3",
   "version": "3.8.5"
  }
 },
 "nbformat": 4,
 "nbformat_minor": 5
}
